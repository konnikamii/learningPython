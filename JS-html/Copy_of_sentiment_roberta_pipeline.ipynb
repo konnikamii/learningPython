{
  "nbformat": 4,
  "nbformat_minor": 0,
  "metadata": {
    "colab": {
      "provenance": []
    },
    "kernelspec": {
      "name": "python3",
      "display_name": "Python 3"
    },
    "language_info": {
      "name": "python"
    },
    "accelerator": "GPU"
  },
  "cells": [
    {
      "cell_type": "code",
      "metadata": {
        "id": "GpSU-ZzNGgY_"
      },
      "source": [
        "!pip install transformers"
      ],
      "execution_count": null,
      "outputs": []
    },
    {
      "cell_type": "code",
      "source": [
        "from google.colab import drive\n",
        "\n",
        "drive.mount('/content/drive')"
      ],
      "metadata": {
        "id": "i8_kHGU83akS"
      },
      "execution_count": null,
      "outputs": []
    },
    {
      "cell_type": "code",
      "source": [
        "import pandas as pd\n",
        "\n",
        "df = pd.read_csv('/content/drive/My Drive/Dataset/kickstarter_data_OSF.csv') #Loading our csv from drive"
      ],
      "metadata": {
        "id": "0pdr6ahn4kIx"
      },
      "execution_count": 3,
      "outputs": []
    },
    {
      "cell_type": "code",
      "source": [
        "df['blurb'][1:5]"
      ],
      "metadata": {
        "id": "dz-ZGNZz43LQ",
        "outputId": "0c67a099-d046-4bd3-bc6d-3289a0de9a25",
        "colab": {
          "base_uri": "https://localhost:8080/"
        }
      },
      "execution_count": 4,
      "outputs": [
        {
          "output_type": "execute_result",
          "data": {
            "text/plain": [
              "1    Help us built a sustainable studio & eliminate...\n",
              "2    \"If I paint something, I don't want to have to...\n",
              "3    Our free app will allow you pool reservations ...\n",
              "4    Prohibition themed Gastro Pub and After Dark S...\n",
              "Name: blurb, dtype: object"
            ]
          },
          "metadata": {},
          "execution_count": 4
        }
      ]
    },
    {
      "cell_type": "code",
      "metadata": {
        "id": "g11hPyiBGm72"
      },
      "source": [
        "from transformers import pipeline\n",
        "sentiment_analysis = pipeline(\"sentiment-analysis\",model=\"siebert/sentiment-roberta-large-english\")"
      ],
      "execution_count": null,
      "outputs": []
    },
    {
      "cell_type": "code",
      "source": [
        "print(sentiment_analysis('Hey there, I hate sushi')) #test if model works"
      ],
      "metadata": {
        "colab": {
          "base_uri": "https://localhost:8080/"
        },
        "id": "BRzWBwpU6lsi",
        "outputId": "164118d8-b111-4c4b-9852-22f8a39d9e92"
      },
      "execution_count": 6,
      "outputs": [
        {
          "output_type": "stream",
          "name": "stdout",
          "text": [
            "[{'label': 'NEGATIVE', 'score': 0.9993276596069336}]\n"
          ]
        }
      ]
    },
    {
      "cell_type": "code",
      "source": [
        "#create a loop to test x number of sentences from our data\n",
        "for i in range(10):\n",
        "  print(sentiment_analysis(df['blurb'][i]))"
      ],
      "metadata": {
        "id": "QnkOwERV5JAh",
        "outputId": "9e871460-da64-4f41-b702-23f3fbf6ae29",
        "colab": {
          "base_uri": "https://localhost:8080/"
        }
      },
      "execution_count": 7,
      "outputs": [
        {
          "output_type": "stream",
          "name": "stdout",
          "text": [
            "[{'label': 'POSITIVE', 'score': 0.9986400008201599}]\n",
            "[{'label': 'POSITIVE', 'score': 0.9988527297973633}]\n",
            "[{'label': 'POSITIVE', 'score': 0.9962971806526184}]\n",
            "[{'label': 'POSITIVE', 'score': 0.998619794845581}]\n",
            "[{'label': 'POSITIVE', 'score': 0.9986061453819275}]\n",
            "[{'label': 'POSITIVE', 'score': 0.9983891248703003}]\n",
            "[{'label': 'POSITIVE', 'score': 0.998796820640564}]\n",
            "[{'label': 'POSITIVE', 'score': 0.9988939166069031}]\n",
            "[{'label': 'POSITIVE', 'score': 0.9988872408866882}]\n",
            "[{'label': 'POSITIVE', 'score': 0.9987727999687195}]\n"
          ]
        }
      ]
    },
    {
      "cell_type": "code",
      "source": [
        "#It works!"
      ],
      "metadata": {
        "id": "fJ4O02Kz7Bgd"
      },
      "execution_count": null,
      "outputs": []
    }
  ]
}